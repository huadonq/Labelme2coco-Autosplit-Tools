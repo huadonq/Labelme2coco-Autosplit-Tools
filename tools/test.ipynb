{
 "cells": [
  {
   "cell_type": "code",
   "execution_count": 3,
   "metadata": {},
   "outputs": [
    {
     "name": "stdout",
     "output_type": "stream",
     "text": [
      "1144\n"
     ]
    }
   ],
   "source": [
    "from subdir2rootdir import merge_json, json_list\n",
    "path = '/home/jovyan/qrcode-single-detection/0718_detection'\n",
    "merge_json(path)\n",
    "print(len(json_list))"
   ]
  },
  {
   "cell_type": "code",
   "execution_count": 5,
   "metadata": {},
   "outputs": [
    {
     "data": {
      "text/plain": [
       "'/home/jovyan/qrcode/detection_tools_scen/tools/test.ipynb'"
      ]
     },
     "execution_count": 5,
     "metadata": {},
     "output_type": "execute_result"
    }
   ],
   "source": [
    "r = '/home/jovyan/qrcode-single-detection'\n",
    "path = '/home/jovyan/qrcode-single-detection/detection_tools_scen/tools/test.ipynb'\n",
    "path2 = '/home/jovyan/qrcode'\n",
    "path = path.replace(r, path2)\n",
    "path"
   ]
  },
  {
   "cell_type": "code",
   "execution_count": 6,
   "metadata": {},
   "outputs": [],
   "source": [
    "a = {'IMG_20220714_152627.jpg': '/home/jovyan/qrcode-single-detection/0718_detection/poster/', 'IMG_20220714_152628.jpg': '/home/jovyan/qrcode-single-detection/0718_detection/poster/', 'IMG_20220714_152630.jpg': '/home/jovyan/qrcode-single-detection/0718_detection/poster/'}"
   ]
  },
  {
   "cell_type": "code",
   "execution_count": 7,
   "metadata": {},
   "outputs": [
    {
     "data": {
      "text/plain": [
       "{'IMG_20220714_152627.jpg': '/home/jovyan/qrcode-single-detection/0718_detection/poster/',\n",
       " 'IMG_20220714_152628.jpg': '/home/jovyan/qrcode-single-detection/0718_detection/poster/',\n",
       " 'IMG_20220714_152630.jpg': '/home/jovyan/qrcode-single-detection/0718_detection/poster/'}"
      ]
     },
     "execution_count": 7,
     "metadata": {},
     "output_type": "execute_result"
    }
   ],
   "source": [
    "a"
   ]
  },
  {
   "cell_type": "code",
   "execution_count": 10,
   "metadata": {},
   "outputs": [
    {
     "name": "stdout",
     "output_type": "stream",
     "text": [
      "/home/jovyan/qrcode-single-detection/0718_detection/poster/\n",
      "/home/jovyan/qrcode-single-detection/0718_detection/poster/\n",
      "/home/jovyan/qrcode-single-detection/0718_detection/poster/\n"
     ]
    }
   ],
   "source": [
    "for key in a.keys():\n",
    "    print(a[key])"
   ]
  },
  {
   "cell_type": "code",
   "execution_count": null,
   "metadata": {},
   "outputs": [],
   "source": []
  }
 ],
 "metadata": {
  "interpreter": {
   "hash": "d4d1e4263499bec80672ea0156c357c1ee493ec2b1c70f0acce89fc37c4a6abe"
  },
  "kernelspec": {
   "display_name": "Python 3.8.10 64-bit ('base': conda)",
   "language": "python",
   "name": "python3"
  },
  "language_info": {
   "codemirror_mode": {
    "name": "ipython",
    "version": 3
   },
   "file_extension": ".py",
   "mimetype": "text/x-python",
   "name": "python",
   "nbconvert_exporter": "python",
   "pygments_lexer": "ipython3",
   "version": "3.8.10"
  },
  "orig_nbformat": 4
 },
 "nbformat": 4,
 "nbformat_minor": 2
}
